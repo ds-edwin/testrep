{
 "cells": [
  {
   "cell_type": "code",
   "execution_count": 5,
   "source": [
    "import logging\r\n",
    "# 파일로 남기기 위해서는 filename='test.log' 파라메터, 어느 로그까지 남길 것인지를 level로 설정 가능\r\n",
    "logging.basicConfig(filename='test.log',level=logging.ERROR)\r\n",
    "\r\n",
    "# 로그를 남길 부분에 다음과 같이 로그 레벨에 맞추어 출력해주면 해당 내용이 파일에 들어감\r\n",
    "logging.debug(\"debug\")\r\n",
    "logging.info(\"info\")\r\n",
    "logging.warning(\"warning\")\r\n",
    "logging.error(\"error\")\r\n",
    "logging.critical(\"critical\")"
   ],
   "outputs": [],
   "metadata": {}
  },
  {
   "cell_type": "code",
   "execution_count": null,
   "source": [],
   "outputs": [],
   "metadata": {}
  }
 ],
 "metadata": {
  "orig_nbformat": 4,
  "language_info": {
   "name": "python",
   "version": "3.8.5",
   "mimetype": "text/x-python",
   "codemirror_mode": {
    "name": "ipython",
    "version": 3
   },
   "pygments_lexer": "ipython3",
   "nbconvert_exporter": "python",
   "file_extension": ".py"
  },
  "kernelspec": {
   "name": "python3",
   "display_name": "Python 3.8.5 64-bit ('base': conda)"
  },
  "interpreter": {
   "hash": "7b4b4feff2f24a0f0a34464dbe537a36fda679851528fb8735cb41fa49dffb2d"
  }
 },
 "nbformat": 4,
 "nbformat_minor": 2
}