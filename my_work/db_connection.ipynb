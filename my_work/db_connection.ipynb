{
 "cells": [
  {
   "cell_type": "code",
   "execution_count": 2,
   "source": [
    "import pymysql"
   ],
   "outputs": [],
   "metadata": {}
  },
  {
   "cell_type": "markdown",
   "source": [
    "### CREATE"
   ],
   "metadata": {}
  },
  {
   "cell_type": "code",
   "execution_count": 25,
   "source": [
    "db_conn = pymysql.connect(\n",
    "host='14.32.248.156',\n",
    "port=3306,\n",
    "user='edwinlee',\n",
    "passwd='rrkakddl21#',\n",
    "db='blog_db',\n",
    "charset='utf8'\n",
    ")"
   ],
   "outputs": [],
   "metadata": {}
  },
  {
   "cell_type": "code",
   "execution_count": 26,
   "source": [
    "edwin_db = db_conn.cursor()\n",
    "edwin_db"
   ],
   "outputs": [
    {
     "output_type": "execute_result",
     "data": {
      "text/plain": [
       "<pymysql.cursors.Cursor at 0x10ee79590>"
      ]
     },
     "metadata": {},
     "execution_count": 26
    }
   ],
   "metadata": {}
  },
  {
   "cell_type": "code",
   "execution_count": 27,
   "source": [
    "query = \"SHOW TABLES;\"\n",
    "\n",
    "edwin_db.execute(query)\n",
    "results = edwin_db.fetchall()\n",
    "for result in results:\n",
    "    print(result, type(result))"
   ],
   "outputs": [
    {
     "output_type": "stream",
     "name": "stdout",
     "text": [
      "('user_info',) <class 'tuple'>\n"
     ]
    }
   ],
   "metadata": {}
  },
  {
   "cell_type": "code",
   "execution_count": 9,
   "source": [
    "query = '''\n",
    "CREATE TABLE user_info(\n",
    "    USER_ID INT UNSIGNED NOT NULL AUTO_INCREMENT,\n",
    "    USER_EMAIL VARCHAR(100) NOT NULL,\n",
    "    BLOG_ID CHAR(4),\n",
    "    PRIMARY KEY(USER_ID)    \n",
    ")\n",
    "'''\n",
    "edwin_db.execute(query)\n",
    "db_conn.commit()"
   ],
   "outputs": [],
   "metadata": {}
  },
  {
   "cell_type": "markdown",
   "source": [
    "### INSERT"
   ],
   "metadata": {}
  },
  {
   "cell_type": "code",
   "execution_count": 11,
   "source": [
    "user_email = 'test@test.com'\n",
    "blog_id = 'A'"
   ],
   "outputs": [],
   "metadata": {}
  },
  {
   "cell_type": "code",
   "execution_count": 32,
   "source": [
    "query"
   ],
   "outputs": [
    {
     "output_type": "execute_result",
     "data": {
      "text/plain": [
       "\"INSERT INTO user_info (USER_EMAIL, BLOG_ID) VALUES ('test@test.com', 'A'))\""
      ]
     },
     "metadata": {},
     "execution_count": 32
    }
   ],
   "metadata": {}
  },
  {
   "cell_type": "code",
   "execution_count": 33,
   "source": [
    "query = \"INSERT INTO user_info (USER_EMAIL, BLOG_ID) VALUES ('%s', '%s')\" % (str(user_email), str(blog_id))\n",
    "\n",
    "edwin_db.execute(query)\n",
    "db_conn.commit()"
   ],
   "outputs": [],
   "metadata": {}
  },
  {
   "cell_type": "markdown",
   "source": [
    "### SELECT"
   ],
   "metadata": {}
  },
  {
   "cell_type": "code",
   "execution_count": null,
   "source": [
    "query = \"SHOW TABLES;\"\n",
    "\n",
    "edwin_db.execute(query)\n",
    "results = edwin_db.fetchall()\n",
    "for result in results:\n",
    "    print(result, type(result))"
   ],
   "outputs": [
    {
     "output_type": "stream",
     "name": "stdout",
     "text": [
      "('user_info',) <class 'tuple'>\n"
     ]
    }
   ],
   "metadata": {}
  },
  {
   "cell_type": "code",
   "execution_count": 34,
   "source": [
    "query = \"SELECT * FROM user_info\"\n",
    "\n",
    "edwin_db.execute(query)\n",
    "results = edwin_db.fetchall()\n",
    "for result in results:\n",
    "    print(result, type(result))"
   ],
   "outputs": [
    {
     "output_type": "stream",
     "name": "stdout",
     "text": [
      "(1, 'test@test.com', 'A') <class 'tuple'>\n"
     ]
    }
   ],
   "metadata": {}
  },
  {
   "cell_type": "code",
   "execution_count": null,
   "source": [],
   "outputs": [],
   "metadata": {}
  }
 ],
 "metadata": {
  "orig_nbformat": 4,
  "language_info": {
   "name": "python",
   "version": "3.7.4",
   "mimetype": "text/x-python",
   "codemirror_mode": {
    "name": "ipython",
    "version": 3
   },
   "pygments_lexer": "ipython3",
   "nbconvert_exporter": "python",
   "file_extension": ".py"
  },
  "kernelspec": {
   "name": "python3",
   "display_name": "Python 3.7.4 64-bit ('base': conda)"
  },
  "interpreter": {
   "hash": "9461de9e1701e568280068f92a7e4a8312aec9b5411537b274ba3a5faad0d519"
  }
 },
 "nbformat": 4,
 "nbformat_minor": 2
}